{
  "nbformat": 4,
  "nbformat_minor": 0,
  "metadata": {
    "colab": {
      "provenance": [],
      "collapsed_sections": [
        "VfxOHF5j5Y9c",
        "9ruj6CIaY1eT",
        "XgdkRC4o492v",
        "2mmtGmyz88FB",
        "-qLvz5rHVyLo",
        "SnthjbhE9rTy",
        "XyrqEgvj_JsW",
        "JmqcObjkkwhT",
        "JeORb7OdEnOR",
        "ZE6-s6R4OGmZ",
        "YbMKigdjrPCf",
        "uN3INEYTbZID"
      ],
      "authorship_tag": "ABX9TyON8LtDS35NdRSGEeIZCVfh",
      "include_colab_link": true
    },
    "kernelspec": {
      "name": "python3",
      "display_name": "Python 3"
    },
    "language_info": {
      "name": "python"
    }
  },
  "cells": [
    {
      "cell_type": "markdown",
      "metadata": {
        "id": "view-in-github",
        "colab_type": "text"
      },
      "source": [
        "<a href=\"https://colab.research.google.com/github/AqueeqAzam/numpy-for-mathematical-computing/blob/main/numpy.ipynb\" target=\"_parent\"><img src=\"https://colab.research.google.com/assets/colab-badge.svg\" alt=\"Open In Colab\"/></a>"
      ]
    },
    {
      "cell_type": "markdown",
      "source": [
        "# `Creating Arrays, and some basic operation`"
      ],
      "metadata": {
        "id": "VfxOHF5j5Y9c"
      }
    },
    {
      "cell_type": "code",
      "source": [
        "import numpy as np\n",
        "\n",
        "# creating array\n",
        "\n",
        "arr = np.array([23, 45, 23, 12])\n",
        "arr\n",
        "\n",
        "# check array types\n",
        "type(arr)\n",
        "\n",
        "# zeros array (fill array with zeros)\n",
        "arr_zero = np.zeros(4)\n",
        "arr_zero\n",
        "\n",
        "# with multi dimension\n",
        "arr_zero = np.zeros((3,4))\n",
        "arr_zero\n",
        "\n",
        "# ones array (fill array with zeros)\n",
        "arr_ones = np.ones(4)\n",
        "arr_ones\n",
        "\n",
        "# empty array\n",
        "arr_em = np.empty(4)\n",
        "arr_em\n",
        "\n",
        "# array range\n",
        "arr_rn = np.arange(4)\n",
        "arr_rn\n",
        "\n",
        "# array dimgonal\n",
        "arr_dig = np.eye(3, 5)\n",
        "arr_dig\n",
        "\n",
        "# array linespace\n",
        "arr_lp = np.linspace(0, 20, num=5)\n",
        "arr_lp"
      ],
      "metadata": {
        "colab": {
          "base_uri": "https://localhost:8080/"
        },
        "id": "15_RVXSH5fD2",
        "outputId": "19485927-b13b-4148-ed63-c665a4835e2b"
      },
      "execution_count": null,
      "outputs": [
        {
          "output_type": "execute_result",
          "data": {
            "text/plain": [
              "array([ 0.,  5., 10., 15., 20.])"
            ]
          },
          "metadata": {},
          "execution_count": 70
        }
      ]
    },
    {
      "cell_type": "markdown",
      "source": [
        "# `Array with random numbers`"
      ],
      "metadata": {
        "id": "9ruj6CIaY1eT"
      }
    },
    {
      "cell_type": "code",
      "source": [
        "# rand(): generate random value between 0 and 1\n",
        "\n",
        "# randn(): generate random value close to 0\n",
        "\n",
        "# ranf(): generate random value close to [0.0, 1.0]\n",
        "\n",
        "# randint(): generate random number between 0 and 1\n",
        "\n",
        "import numpy as np\n",
        "\n",
        "var = np.random.rand(4)\n",
        "var\n",
        "\n",
        "var = np.random.rand(4)\n",
        "var\n",
        "\n",
        "var = np.random.randn(4)\n",
        "var\n",
        "\n",
        "min = 4\n",
        "max = 90\n",
        "tot_val = 5\n",
        "var = np.random.randint(min, max, tot_val)\n",
        "var"
      ],
      "metadata": {
        "colab": {
          "base_uri": "https://localhost:8080/"
        },
        "id": "R5YFnxkHY6XC",
        "outputId": "3dafd9f7-3760-418a-e901-9796db9d9244"
      },
      "execution_count": null,
      "outputs": [
        {
          "output_type": "execute_result",
          "data": {
            "text/plain": [
              "array([ 9, 54, 77, 16, 19])"
            ]
          },
          "metadata": {},
          "execution_count": 76
        }
      ]
    },
    {
      "cell_type": "markdown",
      "source": [
        "# `Data Type`"
      ],
      "metadata": {
        "id": "XgdkRC4o492v"
      }
    },
    {
      "cell_type": "code",
      "source": [
        "import numpy as np\n",
        "var = np.array([1,2,3,4])\n",
        "print(\"Data\", var.dtype)\n",
        "\n",
        "var = np.array([1.3,2.6,3.8,4.2])\n",
        "print(\"Data\", var.dtype)\n",
        "\n",
        "var = np.array(['A', 'V', 'X'])\n",
        "print(\"Data\", var.dtype)\n",
        "\n",
        "# converting datatypes\n",
        "var = np.array([1,2,3,4], dtype = np.int8)\n",
        "print(\"Data Type\", var.dtype)\n",
        "\n",
        "var = np.array([1,2,3,4], dtype = \"f\")\n",
        "print(\"Data Type\", var.dtype)\n",
        "print(var)"
      ],
      "metadata": {
        "id": "udKrTwYP5Arp"
      },
      "execution_count": null,
      "outputs": []
    },
    {
      "cell_type": "markdown",
      "source": [
        "# `Shape adn Size`"
      ],
      "metadata": {
        "id": "2mmtGmyz88FB"
      }
    },
    {
      "cell_type": "code",
      "source": [
        "import numpy as np\n",
        "\n",
        "var = np.array([[1, 4], [3, 6]])\n",
        "print(var)\n",
        "\n",
        "# check dimension\n",
        "print(var.shape)\n",
        "\n",
        "# creating multidimension array\n",
        "var1 = np.array([1, 3, 6, 8, 19], ndmin=4)\n",
        "print(var1)\n",
        "print(var1.ndim)\n",
        "print(var1.shape)\n",
        "\n",
        "# reshape array\n",
        "var3 = np.array([1, 2, 3, 4, 5, 6])\n",
        "x = var3.reshape(2, 3)\n",
        "print(x)\n",
        "\n",
        "\n",
        "var4 = np.array([1, 2, 3, 4, 5, 6])\n",
        "x = var4.reshape(-1)\n",
        "print(x)\n",
        "print(x.ndim)\n",
        "\n"
      ],
      "metadata": {
        "id": "VXDwWO8u8_14"
      },
      "execution_count": null,
      "outputs": []
    },
    {
      "cell_type": "markdown",
      "source": [
        "# `Array Slicing`"
      ],
      "metadata": {
        "id": "-qLvz5rHVyLo"
      }
    },
    {
      "cell_type": "code",
      "source": [
        "# creating multidimension array\n",
        "arr = np.array([[1, 4, 85, 45], [1, 14, 65, 45], [1, 4, 65, 5]])\n",
        "arr\n",
        "\n",
        "# slicing\n",
        "arr = np.array([23, 56, 34, 22])\n",
        "arr[0:3]\n",
        "arr[2:3]\n",
        "\n",
        "arr = np.array([[1, 4, 85, 45], [1, 14, 65, 45], [1, 4, 65, 5]])\n",
        "arr[1, 2:4]"
      ],
      "metadata": {
        "id": "v3St5q6qV32x"
      },
      "execution_count": null,
      "outputs": []
    },
    {
      "cell_type": "markdown",
      "source": [
        "# `Inspecting an Array`"
      ],
      "metadata": {
        "id": "SnthjbhE9rTy"
      }
    },
    {
      "cell_type": "code",
      "source": [],
      "metadata": {
        "id": "vUHZyMJD9vAF"
      },
      "execution_count": null,
      "outputs": []
    },
    {
      "cell_type": "code",
      "source": [
        "import numpy as np\n",
        "\n",
        "# creating array\n",
        "\n",
        "arr = np.array([23, 45, 23, 12])\n",
        "arr\n",
        "\n",
        "# check array types\n",
        "type(arr)\n",
        "\n",
        "# creating multidimension array\n",
        "arr = np.array([[1, 4, 85, 45], [1, 14, 65, 45], [1, 4, 65, 5]])\n",
        "arr\n",
        "\n",
        "# check dimension (no of array dim)\n",
        "arr.ndim\n",
        "\n",
        "# slicing\n",
        "arr = np.array([23, 56, 34, 22])\n",
        "arr[0:3]\n",
        "arr[2:3]\n",
        "\n",
        "arr = np.array([[1, 4, 85, 45], [1, 14, 65, 45], [1, 4, 65, 5]])\n",
        "arr[1, 2:4]\n",
        "\n",
        "# check size (no of array ele)\n",
        "np.size(arr)\n",
        "\n",
        "\n",
        "\n",
        "# checking length\n",
        "len(arr)\n",
        "\n",
        "# check data types\n",
        "arr.dtype\n",
        "\n",
        "arr.astype"
      ],
      "metadata": {
        "colab": {
          "base_uri": "https://localhost:8080/"
        },
        "outputId": "166e88e0-2a72-4a5e-99c2-9fb69ac5d79a",
        "id": "UG7vuvSL_BWb"
      },
      "execution_count": null,
      "outputs": [
        {
          "output_type": "stream",
          "name": "stdout",
          "text": [
            "(3, 4)\n"
          ]
        },
        {
          "output_type": "execute_result",
          "data": {
            "text/plain": [
              "<function ndarray.astype>"
            ]
          },
          "metadata": {},
          "execution_count": 8
        }
      ]
    },
    {
      "cell_type": "markdown",
      "source": [
        "# `Mathematical Operation`"
      ],
      "metadata": {
        "id": "XyrqEgvj_JsW"
      }
    },
    {
      "cell_type": "code",
      "source": [
        "import numpy as np\n",
        "arr1 = np.array([34, 54, 20, 45, 90])\n",
        "arr2 = np.array([4, 4, 23, 15, 10])\n",
        "\n",
        "# add elements\n",
        "add_ele = arr1 + 3\n",
        "print(add_ele)\n",
        "\n",
        "# add two array\n",
        "arr = arr1 + arr2\n",
        "arr\n",
        "\n",
        "# by using add function\n",
        "arr_add = np.add(arr1, arr2)\n",
        "arr_add\n",
        "\n",
        "# by using subtract function\n",
        "arr_sub = np.subtract(arr1, arr2)\n",
        "arr_sub\n",
        "\n",
        "# by using multiply function\n",
        "arr_mul = np.multiply(arr1, arr2)\n",
        "arr_mul\n",
        "\n",
        "# by using subtract function\n",
        "arr_div = np.divide(arr1, arr2)\n",
        "arr_div\n",
        "\n",
        "\n",
        "\n",
        "arr1 = np.array([[34, 54], [20, 45]])  # Modified to have consistent dimensions\n",
        "arr2 = np.array([[4, 4], [23, 15]])    # Modified to have consistent dimensions\n",
        "mul_dim_arr_add = np.add(arr1, arr2)\n",
        "mul_dim_arr_add\n",
        "\n",
        "# calculate power\n",
        "arr1 = np.array([3, 5, 6, 8])\n",
        "arr2 = np.array([3])\n",
        "np.power(arr1, arr2)\n",
        "\n",
        "# calculate squareroot\n",
        "arr1 = np.array([27, 125, 16])\n",
        "arr2 = np.sqrt(arr1)\n",
        "arr2\n",
        "\n",
        "# calculate square\n",
        "arr1 = np.array([27, 125, 16])\n",
        "arr2 = np.square(arr1)\n",
        "arr2\n",
        "\n",
        "# calculate square\n",
        "arr1 = np.array([2, 5, 6])\n",
        "arr2 = np.reciprocal(arr1)\n",
        "print(arr2)\n",
        "\n",
        "# calculate minimum\n",
        "arr1 = np.array([2, 4, 6, 8, 10])\n",
        "arr2 = np.min(arr1)\n",
        "arr2\n",
        "\n",
        "# calculate maxinium\n",
        "arr1 = np.array([2, 4, 6, 8, 10])\n",
        "arr2 = np.max(arr1)\n",
        "arr2\n",
        "\n",
        "# calculate minimum in 2 dim\n",
        "arr1 = np.array([[2, 4, 6], [8, 10, 12]])\n",
        "arr2 = np.min(arr1, axis=1)\n",
        "arr2\n",
        "\n",
        "# calculate minimum in 2 dim\n",
        "arr1 = np.array([[2, 4, 6], [8, 10, 12]])\n",
        "arr2 = np.min(arr1, axis=0)\n",
        "arr2\n",
        "\n",
        "# calculate trigonometry value\n",
        "arr1 = np.array([0])\n",
        "arr2 = np.sin(arr1)\n",
        "arr2\n",
        "arr3 = np.cos(arr1)\n",
        "print(arr3)\n",
        "\n",
        "# calculate minimum in 2 dim\n",
        "arr1 = np.array([2, 4, 6])\n",
        "arr2 = np.cumsum(arr1)\n",
        "arr2\n",
        "\n"
      ],
      "metadata": {
        "id": "heTtjag6_M35"
      },
      "execution_count": null,
      "outputs": []
    },
    {
      "cell_type": "markdown",
      "source": [
        "# `Boardcasting`"
      ],
      "metadata": {
        "id": "KBz1MUzsGAz-"
      }
    },
    {
      "cell_type": "code",
      "source": [],
      "metadata": {
        "id": "pY6H5O_qGE67"
      },
      "execution_count": null,
      "outputs": []
    },
    {
      "cell_type": "markdown",
      "source": [
        "# `Copy and View`"
      ],
      "metadata": {
        "id": "JmqcObjkkwhT"
      }
    },
    {
      "cell_type": "code",
      "source": [
        "import numpy as np\n",
        "\n",
        "arr = np.array([3, 6, 9, 12])\n",
        "co = arr.copy()\n",
        "arr[1] = 30\n",
        "print('Original', arr)\n",
        "print('Copy', co)\n",
        "\n",
        "# view\n",
        "vi = arr.view()\n",
        "arr[1] = 40\n",
        "print('Original', arr)\n",
        "print('View', vi)"
      ],
      "metadata": {
        "id": "Wtq6tGCwkzxc"
      },
      "execution_count": null,
      "outputs": []
    },
    {
      "cell_type": "markdown",
      "source": [
        "# `Combining and splitting array`"
      ],
      "metadata": {
        "id": "JeORb7OdEnOR"
      }
    },
    {
      "cell_type": "code",
      "source": [
        "import numpy as np\n",
        "\n",
        "# concatenate array\n",
        "arr1 = np.array([34, 67, 90])\n",
        "arr2 = np.array([3, 6, 1])\n",
        "arr3 = np.concatenate([arr1, arr2])\n",
        "arr3\n",
        "\n",
        "# concatenate array in 2-d\n",
        "arr1 = np.array([[34, 7], [90, 1]])\n",
        "arr2 = np.array([[3, 6], [1, 12]])\n",
        "\n",
        "# concatnating 2-d array\n",
        "arr3 = np.concatenate((arr1, arr2))\n",
        "print(arr3)\n",
        "\n",
        "# merging array\n",
        "arr3 = np.concatenate((arr1, arr2), axis=1)\n",
        "print(arr3)\n",
        "\n",
        "# horizontal concatenation\n",
        "hor_cat = np.hstack([arr1, arr2])\n",
        "hor_cat\n",
        "\n",
        "# vertical concatenation\n",
        "ver_cat = np.vstack([arr1, arr2])\n",
        "ver_cat\n",
        "\n",
        "# spelliting array\n",
        "a = np.array([34, 23, 2, 6, 8, 80, 34, 23, 12, 80])\n",
        "b = np.array_split(a, 3)\n",
        "print(b)"
      ],
      "metadata": {
        "id": "5BGYJYhREi2y"
      },
      "execution_count": null,
      "outputs": []
    },
    {
      "cell_type": "markdown",
      "source": [
        "# `Add and Remove array`"
      ],
      "metadata": {
        "id": "ZE6-s6R4OGmZ"
      }
    },
    {
      "cell_type": "code",
      "source": [
        "import numpy as np\n",
        "\n",
        "# appending\n",
        "arr = np.array([23, 90, 67, 8, 5, 8, 54])\n",
        "np.append(arr, [50, 100])\n",
        "\n",
        "# inserting\n",
        "np.insert(arr, 1, [200, 300])\n",
        "\n",
        "\n",
        "# Fix: Create an array with consistent row lengths\n",
        "arr = np.array([[23, 90, 67], [8, 5, 8]])  # Removed the extra element from the second row\n",
        "np.insert(arr, 1, [200, 300], axis=1)\n",
        "\n",
        "# deleting\n",
        "arr_del = np.array([23, 90, 67, 8, 5, 8, 54])\n",
        "np.delete(arr_del, 1)\n",
        "\n",
        "np.delete(arr_del, 1, axis=0)"
      ],
      "metadata": {
        "colab": {
          "base_uri": "https://localhost:8080/"
        },
        "id": "KqdN4_FiOKzw",
        "outputId": "677b6ecf-aedc-4e9a-e6c9-675afc54681a"
      },
      "execution_count": null,
      "outputs": [
        {
          "output_type": "execute_result",
          "data": {
            "text/plain": [
              "array([23, 67,  8,  5,  8, 54])"
            ]
          },
          "metadata": {},
          "execution_count": 59
        }
      ]
    },
    {
      "cell_type": "markdown",
      "source": [
        "# `Sraech, sort, filter`"
      ],
      "metadata": {
        "id": "YbMKigdjrPCf"
      }
    },
    {
      "cell_type": "code",
      "source": [
        "import numpy as np\n",
        "\n",
        "arr = np.array([23, 90, 67, 8, 5, 8, 5])\n",
        "\n",
        "# searchimh fun\n",
        "arr_sea = np.where(arr == 67)\n",
        "\n",
        "arr_sea = np.where(arr % 2 == 0)\n",
        "print(arr_sea)\n",
        "\n",
        "# search sorting fun\n",
        "arr = np.array([23, 90, 67, 8, 5, 8, 5])\n",
        "arr_sea_sort = np.searchsorted(arr, 8)\n",
        "print(arr_sea_sort)\n",
        "\n",
        "# sorting fun\n",
        "arr = np.array([23, 90, 67, 8, 5, 8, 5])\n",
        "arr_sort = np.sort(arr)\n",
        "print(arr_sort)\n",
        "\n",
        "# filter fun\n",
        "arr = np.array([23, 90, 67])\n",
        "f = [True, False, True]\n",
        "new_arr = arr[f]\n",
        "print(new_arr)\n"
      ],
      "metadata": {
        "colab": {
          "base_uri": "https://localhost:8080/"
        },
        "id": "cuUlVbHIrV9g",
        "outputId": "cec9436d-f341-4663-f1a3-9f799b3c4c62"
      },
      "execution_count": null,
      "outputs": [
        {
          "output_type": "stream",
          "name": "stdout",
          "text": [
            "(array([1, 3, 5]),)\n",
            "0\n",
            "[ 5  5  8  8 23 67 90]\n",
            "[23 67]\n"
          ]
        }
      ]
    },
    {
      "cell_type": "markdown",
      "source": [
        "# `Arithmetic Functions`"
      ],
      "metadata": {
        "id": "uN3INEYTbZID"
      }
    },
    {
      "cell_type": "code",
      "source": [
        "# shuffle function\n",
        "import numpy as np\n",
        "var = np.array([1, 2, 3, 4, 5])\n",
        "np.random.shuffle(var)\n",
        "print(var)\n",
        "\n",
        "# unique function\n",
        "var1 = np.array([1, 2, 3, 4, 5, 6, 3, 5, 2])\n",
        "x = np.unique(var1)\n",
        "print(x)\n",
        "\n",
        "# size function\n",
        "var2 = np.array([1, 2, 3, 4, 5, 6, 3, 5, 2])\n",
        "x = np.size(var2)\n",
        "print(x)\n",
        "\n",
        "# resize function\n",
        "var2 = np.array([1, 2, 3, 4, 5, 6, 3, 5, 2])\n",
        "x = np.resize(var2, (3, 3))\n",
        "print(x)\n",
        "\n",
        "# flatten function\n",
        "var2 = np.array([1, 2, 3, 4, 5, 6, 3, 5, 2])\n",
        "x = np.resize(var2, (3, 2))\n",
        "print(x.flatten(order='F'))\n"
      ],
      "metadata": {
        "id": "CGmwwlMAbhFD"
      },
      "execution_count": null,
      "outputs": []
    },
    {
      "cell_type": "markdown",
      "source": [
        "# `Matrix`"
      ],
      "metadata": {
        "id": "mVGdMb1Dd5Bn"
      }
    },
    {
      "cell_type": "code",
      "source": [
        "import numpy as np\n",
        "var = np.matrix([[1, 2], [4, 5]])\n",
        "print(var)\n",
        "print(type(var))\n",
        "\n",
        "# transpose\n",
        "var_t = np.transpose(var)\n",
        "print(var_t)\n",
        "\n",
        "# inverse\n",
        "var_i = np.linalg.inv(var)\n",
        "print(var_i)\n",
        "\n",
        "# power\n",
        "var_p = np.linalg.matrix_power(var, 2)\n",
        "print(var_p)\n",
        "\n",
        "# determinant\n",
        "var_d = np.linalg.det(var)\n",
        "print(var_d)"
      ],
      "metadata": {
        "colab": {
          "base_uri": "https://localhost:8080/"
        },
        "id": "c26fmOMhd69r",
        "outputId": "92bfe9b7-692f-48eb-b19e-72d841c98cad"
      },
      "execution_count": null,
      "outputs": [
        {
          "output_type": "stream",
          "name": "stdout",
          "text": [
            "[[1 2]\n",
            " [4 5]]\n",
            "<class 'numpy.matrix'>\n",
            "[[1 4]\n",
            " [2 5]]\n",
            "[[-1.66666667  0.66666667]\n",
            " [ 1.33333333 -0.33333333]]\n",
            "[[ 9 12]\n",
            " [24 33]]\n",
            "-2.9999999999999996\n"
          ]
        }
      ]
    },
    {
      "cell_type": "markdown",
      "source": [],
      "metadata": {
        "id": "w1GCgVVx9rAv"
      }
    }
  ]
}